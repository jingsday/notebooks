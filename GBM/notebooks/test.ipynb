{
 "cells": [
  {
   "cell_type": "code",
   "execution_count": null,
   "id": "d4eff13a",
   "metadata": {},
   "outputs": [],
   "source": [
    "import time\n",
    "import datetime\n"
   ]
  },
  {
   "cell_type": "code",
   "execution_count": null,
   "id": "7e02ae57",
   "metadata": {},
   "outputs": [],
   "source": [
    "while True:\n",
    "    now = datetime.datetime.now()\n",
    "    print(\"Hello, World! The current time is {}\".format(now))\n",
    "    time.sleep(3600) # sleep for an hour (3600 seconds)"
   ]
  }
 ],
 "metadata": {
  "kernelspec": {
   "display_name": "Python 3 (ipykernel)",
   "language": "python",
   "name": "python3"
  },
  "language_info": {
   "codemirror_mode": {
    "name": "ipython",
    "version": 3
   },
   "file_extension": ".py",
   "mimetype": "text/x-python",
   "name": "python",
   "nbconvert_exporter": "python",
   "pygments_lexer": "ipython3",
   "version": "3.9.13"
  }
 },
 "nbformat": 4,
 "nbformat_minor": 5
}
